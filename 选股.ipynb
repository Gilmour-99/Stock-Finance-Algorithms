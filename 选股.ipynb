{
 "cells": [
  {
   "cell_type": "code",
   "execution_count": 1,
   "metadata": {},
   "outputs": [],
   "source": [
    "import pandas as pd\n",
    "from stock import*\n",
    "import akshare as ak"
   ]
  },
  {
   "cell_type": "code",
   "execution_count": 66,
   "metadata": {},
   "outputs": [
    {
     "output_type": "stream",
     "name": "stderr",
     "text": [
      "Please wait for a moment: 100%|██████████| 54/54 [00:50<00:00,  1.07it/s]\n"
     ]
    },
    {
     "output_type": "execute_result",
     "data": {
      "text/plain": [
       "        symbol    code  name   trade  pricechange  changepercent     buy  \\\n",
       "0     sh600000  600000  浦发银行   10.70        -0.06         -0.558   10.70   \n",
       "1     sh600004  600004  白云机场   13.21         0.07          0.533   13.21   \n",
       "2     sh600006  600006  东风汽车    6.50         0.20          3.175    6.49   \n",
       "3     sh600007  600007  中国国贸   12.07        -0.02         -0.165   12.07   \n",
       "4     sh600008  600008  首创股份    3.11         0.02          0.647    3.11   \n",
       "...        ...     ...   ...     ...          ...            ...     ...   \n",
       "4235  sz300959  300959  线上线下   71.90         0.02          0.028   71.90   \n",
       "4236  sz300960  300960  通业科技   34.88         0.03          0.086   34.88   \n",
       "4237  sz300961  300961   C深水   37.78        -1.20         -3.079   37.78   \n",
       "4238  sz300965  300965   C恒宇  116.47       -11.91         -9.277  116.46   \n",
       "4239  sz300999  300999   金龙鱼   81.21        -1.59         -1.920   81.21   \n",
       "\n",
       "        sell  settlement    open    high     low      volume        amount  \\\n",
       "0      10.71       10.76   10.76   10.79   10.68  33911224.0  3.635673e+08   \n",
       "1      13.22       13.14   13.21   13.31   13.15   6738943.0  8.908492e+07   \n",
       "2       6.50        6.30    6.32    6.56    6.31  63012254.0  4.071043e+08   \n",
       "3      12.09       12.09   12.10   12.14   12.04    747528.0  9.036523e+06   \n",
       "4       3.12        3.09    3.10    3.12    3.07  41192646.0  1.277912e+08   \n",
       "...      ...         ...     ...     ...     ...         ...           ...   \n",
       "4235   71.91       71.88   71.07   73.14   70.90   3183541.0  2.298382e+08   \n",
       "4236   34.90       34.85   33.50   35.49   33.12   7735442.0  2.656676e+08   \n",
       "4237   37.79       38.98   37.17   43.35   35.98  22990082.0  9.015582e+08   \n",
       "4238  116.47      128.38  116.00  122.00  113.50   5379332.0  6.283825e+08   \n",
       "4239   81.22       82.80   82.79   82.79   79.83  20767069.0  1.679879e+09   \n",
       "\n",
       "      ticktime     per      pb        mktcap           nmc  turnoverratio  \n",
       "0     15:00:02   5.691   0.594  3.140679e+07  3.140679e+07        0.11553  \n",
       "1     15:00:27  27.521   1.705  3.126435e+06  2.733572e+06        0.32566  \n",
       "2     15:00:02  23.483   1.663  1.300000e+06  1.300000e+06        3.15061  \n",
       "3     15:00:02  14.720   1.517  1.215790e+06  1.215790e+06        0.07421  \n",
       "4     15:00:27  18.446   1.480  2.282924e+06  2.282924e+06        0.56116  \n",
       "...        ...     ...     ...           ...           ...            ...  \n",
       "4235  16:29:00   0.000  13.303  5.752000e+05  1.438000e+05       15.91771  \n",
       "4236  16:29:00   0.000   7.325  3.571217e+05  8.468297e+04       31.86145  \n",
       "4237  16:29:00   0.000   7.233  6.697638e+05  1.588050e+05       54.69382  \n",
       "4238  16:29:00   0.000  11.912  6.988200e+05  1.747050e+05       35.86221  \n",
       "4239  16:29:00  67.116   5.271  4.402874e+07  3.003475e+06        5.61514  \n",
       "\n",
       "[4240 rows x 20 columns]"
      ],
      "text/html": "<div>\n<style scoped>\n    .dataframe tbody tr th:only-of-type {\n        vertical-align: middle;\n    }\n\n    .dataframe tbody tr th {\n        vertical-align: top;\n    }\n\n    .dataframe thead th {\n        text-align: right;\n    }\n</style>\n<table border=\"1\" class=\"dataframe\">\n  <thead>\n    <tr style=\"text-align: right;\">\n      <th></th>\n      <th>symbol</th>\n      <th>code</th>\n      <th>name</th>\n      <th>trade</th>\n      <th>pricechange</th>\n      <th>changepercent</th>\n      <th>buy</th>\n      <th>sell</th>\n      <th>settlement</th>\n      <th>open</th>\n      <th>high</th>\n      <th>low</th>\n      <th>volume</th>\n      <th>amount</th>\n      <th>ticktime</th>\n      <th>per</th>\n      <th>pb</th>\n      <th>mktcap</th>\n      <th>nmc</th>\n      <th>turnoverratio</th>\n    </tr>\n  </thead>\n  <tbody>\n    <tr>\n      <th>0</th>\n      <td>sh600000</td>\n      <td>600000</td>\n      <td>浦发银行</td>\n      <td>10.70</td>\n      <td>-0.06</td>\n      <td>-0.558</td>\n      <td>10.70</td>\n      <td>10.71</td>\n      <td>10.76</td>\n      <td>10.76</td>\n      <td>10.79</td>\n      <td>10.68</td>\n      <td>33911224.0</td>\n      <td>3.635673e+08</td>\n      <td>15:00:02</td>\n      <td>5.691</td>\n      <td>0.594</td>\n      <td>3.140679e+07</td>\n      <td>3.140679e+07</td>\n      <td>0.11553</td>\n    </tr>\n    <tr>\n      <th>1</th>\n      <td>sh600004</td>\n      <td>600004</td>\n      <td>白云机场</td>\n      <td>13.21</td>\n      <td>0.07</td>\n      <td>0.533</td>\n      <td>13.21</td>\n      <td>13.22</td>\n      <td>13.14</td>\n      <td>13.21</td>\n      <td>13.31</td>\n      <td>13.15</td>\n      <td>6738943.0</td>\n      <td>8.908492e+07</td>\n      <td>15:00:27</td>\n      <td>27.521</td>\n      <td>1.705</td>\n      <td>3.126435e+06</td>\n      <td>2.733572e+06</td>\n      <td>0.32566</td>\n    </tr>\n    <tr>\n      <th>2</th>\n      <td>sh600006</td>\n      <td>600006</td>\n      <td>东风汽车</td>\n      <td>6.50</td>\n      <td>0.20</td>\n      <td>3.175</td>\n      <td>6.49</td>\n      <td>6.50</td>\n      <td>6.30</td>\n      <td>6.32</td>\n      <td>6.56</td>\n      <td>6.31</td>\n      <td>63012254.0</td>\n      <td>4.071043e+08</td>\n      <td>15:00:02</td>\n      <td>23.483</td>\n      <td>1.663</td>\n      <td>1.300000e+06</td>\n      <td>1.300000e+06</td>\n      <td>3.15061</td>\n    </tr>\n    <tr>\n      <th>3</th>\n      <td>sh600007</td>\n      <td>600007</td>\n      <td>中国国贸</td>\n      <td>12.07</td>\n      <td>-0.02</td>\n      <td>-0.165</td>\n      <td>12.07</td>\n      <td>12.09</td>\n      <td>12.09</td>\n      <td>12.10</td>\n      <td>12.14</td>\n      <td>12.04</td>\n      <td>747528.0</td>\n      <td>9.036523e+06</td>\n      <td>15:00:02</td>\n      <td>14.720</td>\n      <td>1.517</td>\n      <td>1.215790e+06</td>\n      <td>1.215790e+06</td>\n      <td>0.07421</td>\n    </tr>\n    <tr>\n      <th>4</th>\n      <td>sh600008</td>\n      <td>600008</td>\n      <td>首创股份</td>\n      <td>3.11</td>\n      <td>0.02</td>\n      <td>0.647</td>\n      <td>3.11</td>\n      <td>3.12</td>\n      <td>3.09</td>\n      <td>3.10</td>\n      <td>3.12</td>\n      <td>3.07</td>\n      <td>41192646.0</td>\n      <td>1.277912e+08</td>\n      <td>15:00:27</td>\n      <td>18.446</td>\n      <td>1.480</td>\n      <td>2.282924e+06</td>\n      <td>2.282924e+06</td>\n      <td>0.56116</td>\n    </tr>\n    <tr>\n      <th>...</th>\n      <td>...</td>\n      <td>...</td>\n      <td>...</td>\n      <td>...</td>\n      <td>...</td>\n      <td>...</td>\n      <td>...</td>\n      <td>...</td>\n      <td>...</td>\n      <td>...</td>\n      <td>...</td>\n      <td>...</td>\n      <td>...</td>\n      <td>...</td>\n      <td>...</td>\n      <td>...</td>\n      <td>...</td>\n      <td>...</td>\n      <td>...</td>\n      <td>...</td>\n    </tr>\n    <tr>\n      <th>4235</th>\n      <td>sz300959</td>\n      <td>300959</td>\n      <td>线上线下</td>\n      <td>71.90</td>\n      <td>0.02</td>\n      <td>0.028</td>\n      <td>71.90</td>\n      <td>71.91</td>\n      <td>71.88</td>\n      <td>71.07</td>\n      <td>73.14</td>\n      <td>70.90</td>\n      <td>3183541.0</td>\n      <td>2.298382e+08</td>\n      <td>16:29:00</td>\n      <td>0.000</td>\n      <td>13.303</td>\n      <td>5.752000e+05</td>\n      <td>1.438000e+05</td>\n      <td>15.91771</td>\n    </tr>\n    <tr>\n      <th>4236</th>\n      <td>sz300960</td>\n      <td>300960</td>\n      <td>通业科技</td>\n      <td>34.88</td>\n      <td>0.03</td>\n      <td>0.086</td>\n      <td>34.88</td>\n      <td>34.90</td>\n      <td>34.85</td>\n      <td>33.50</td>\n      <td>35.49</td>\n      <td>33.12</td>\n      <td>7735442.0</td>\n      <td>2.656676e+08</td>\n      <td>16:29:00</td>\n      <td>0.000</td>\n      <td>7.325</td>\n      <td>3.571217e+05</td>\n      <td>8.468297e+04</td>\n      <td>31.86145</td>\n    </tr>\n    <tr>\n      <th>4237</th>\n      <td>sz300961</td>\n      <td>300961</td>\n      <td>C深水</td>\n      <td>37.78</td>\n      <td>-1.20</td>\n      <td>-3.079</td>\n      <td>37.78</td>\n      <td>37.79</td>\n      <td>38.98</td>\n      <td>37.17</td>\n      <td>43.35</td>\n      <td>35.98</td>\n      <td>22990082.0</td>\n      <td>9.015582e+08</td>\n      <td>16:29:00</td>\n      <td>0.000</td>\n      <td>7.233</td>\n      <td>6.697638e+05</td>\n      <td>1.588050e+05</td>\n      <td>54.69382</td>\n    </tr>\n    <tr>\n      <th>4238</th>\n      <td>sz300965</td>\n      <td>300965</td>\n      <td>C恒宇</td>\n      <td>116.47</td>\n      <td>-11.91</td>\n      <td>-9.277</td>\n      <td>116.46</td>\n      <td>116.47</td>\n      <td>128.38</td>\n      <td>116.00</td>\n      <td>122.00</td>\n      <td>113.50</td>\n      <td>5379332.0</td>\n      <td>6.283825e+08</td>\n      <td>16:29:00</td>\n      <td>0.000</td>\n      <td>11.912</td>\n      <td>6.988200e+05</td>\n      <td>1.747050e+05</td>\n      <td>35.86221</td>\n    </tr>\n    <tr>\n      <th>4239</th>\n      <td>sz300999</td>\n      <td>300999</td>\n      <td>金龙鱼</td>\n      <td>81.21</td>\n      <td>-1.59</td>\n      <td>-1.920</td>\n      <td>81.21</td>\n      <td>81.22</td>\n      <td>82.80</td>\n      <td>82.79</td>\n      <td>82.79</td>\n      <td>79.83</td>\n      <td>20767069.0</td>\n      <td>1.679879e+09</td>\n      <td>16:29:00</td>\n      <td>67.116</td>\n      <td>5.271</td>\n      <td>4.402874e+07</td>\n      <td>3.003475e+06</td>\n      <td>5.61514</td>\n    </tr>\n  </tbody>\n</table>\n<p>4240 rows × 20 columns</p>\n</div>"
     },
     "metadata": {},
     "execution_count": 66
    }
   ],
   "source": [
    "#看所有股票数据\n",
    "stock_zh_a_spot_df = ak.stock_zh_a_spot()\n",
    "stock_zh_a_spot_df"
   ]
  }
 ],
 "metadata": {
  "kernelspec": {
   "name": "python389jvsc74a57bd02ef1dd72f2d322dedd276e8847cd815facfd22863a40d66ee505ec0535873890",
   "display_name": "Python 3.8.9 64-bit"
  },
  "language_info": {
   "codemirror_mode": {
    "name": "ipython",
    "version": 3
   },
   "file_extension": ".py",
   "mimetype": "text/x-python",
   "name": "python",
   "nbconvert_exporter": "python",
   "pygments_lexer": "ipython3",
   "version": "3.8.9"
  },
  "metadata": {
   "interpreter": {
    "hash": "2ef1dd72f2d322dedd276e8847cd815facfd22863a40d66ee505ec0535873890"
   }
  }
 },
 "nbformat": 4,
 "nbformat_minor": 4
}