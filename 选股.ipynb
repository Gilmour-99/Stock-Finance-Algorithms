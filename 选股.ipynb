{
 "cells": [
  {
   "cell_type": "code",
   "execution_count": 3,
   "metadata": {},
   "outputs": [],
   "source": [
    "import pandas as pd\n",
    "from stock import*\n",
    "import akshare as ak\n",
    "from time import sleep"
   ]
  },
  {
   "cell_type": "code",
   "execution_count": 4,
   "metadata": {},
   "outputs": [
    {
     "output_type": "stream",
     "name": "stderr",
     "text": [
      "Please wait for a moment: 100%|██████████| 54/54 [00:45<00:00,  1.19it/s]\n"
     ]
    }
   ],
   "source": [
    "#看所有股票数据\n",
    "stock_zh_a_spot_df = ak.stock_zh_a_spot()\n",
    "stock_zh_a_spot_df.to_csv('stock_zh_a_spot_df.csv')"
   ]
  },
  {
   "cell_type": "code",
   "execution_count": 4,
   "metadata": {},
   "outputs": [
    {
     "output_type": "execute_result",
     "data": {
      "text/plain": [
       "      Unnamed: 0        代码    名称     最新价    涨跌额     涨跌幅      买入      卖出  \\\n",
       "0              0  sh600000  浦发银行   10.60   0.10   0.952   10.59   10.60   \n",
       "1              1  sh600004  白云机场   13.12  -0.09  -0.681   13.12   13.13   \n",
       "2              2  sh600006  东风汽车    6.91  -0.17  -2.401    6.91    6.92   \n",
       "3              3  sh600007  中国国贸   12.36   0.02   0.162   12.35   12.36   \n",
       "4              4  sh600008  首创股份    3.02  -0.03  -0.984    3.02    3.03   \n",
       "...          ...       ...   ...     ...    ...     ...     ...     ...   \n",
       "4266        4266  sz300976   C达瑞  203.66   2.00   0.992  203.52  203.66   \n",
       "4267        4267  sz300977   C瑞捷   92.59  -9.41  -9.225   92.51   92.59   \n",
       "4268        4268  sz300980   N祥源   54.45  21.68  66.158   54.42   54.45   \n",
       "4269        4269  sz300983   C尤安  120.61  -9.45  -7.266  120.61  120.63   \n",
       "4270        4270  sz300999   金龙鱼   75.45   1.03   1.384   75.42   75.45   \n",
       "\n",
       "          昨收      今开      最高      最低         成交量           成交额  \n",
       "0      10.50   10.47   10.61   10.46  33542803.0  3.538973e+08  \n",
       "1      13.21   13.18   13.18   12.97   7994234.0  1.045192e+08  \n",
       "2       7.08    6.80    7.24    6.77  96632022.0  6.692854e+08  \n",
       "3      12.34   12.34   12.49   12.26    379820.0  4.692412e+06  \n",
       "4       3.05    3.04    3.05    3.01  23876339.0  7.221535e+07  \n",
       "...      ...     ...     ...     ...         ...           ...  \n",
       "4266  201.66  197.00  205.44  192.29   2165138.0  4.322117e+08  \n",
       "4267  102.00   95.00   99.60   92.24   2415113.0  2.293074e+08  \n",
       "4268   32.77   56.00   66.00   54.00   7156536.0  4.236947e+08  \n",
       "4269  130.06  123.00  126.00  120.31   3605567.0  4.390291e+08  \n",
       "4270   74.42   73.72   76.49   73.41  16156448.0  1.213218e+09  \n",
       "\n",
       "[4271 rows x 14 columns]"
      ],
      "text/html": "<div>\n<style scoped>\n    .dataframe tbody tr th:only-of-type {\n        vertical-align: middle;\n    }\n\n    .dataframe tbody tr th {\n        vertical-align: top;\n    }\n\n    .dataframe thead th {\n        text-align: right;\n    }\n</style>\n<table border=\"1\" class=\"dataframe\">\n  <thead>\n    <tr style=\"text-align: right;\">\n      <th></th>\n      <th>Unnamed: 0</th>\n      <th>代码</th>\n      <th>名称</th>\n      <th>最新价</th>\n      <th>涨跌额</th>\n      <th>涨跌幅</th>\n      <th>买入</th>\n      <th>卖出</th>\n      <th>昨收</th>\n      <th>今开</th>\n      <th>最高</th>\n      <th>最低</th>\n      <th>成交量</th>\n      <th>成交额</th>\n    </tr>\n  </thead>\n  <tbody>\n    <tr>\n      <th>0</th>\n      <td>0</td>\n      <td>sh600000</td>\n      <td>浦发银行</td>\n      <td>10.60</td>\n      <td>0.10</td>\n      <td>0.952</td>\n      <td>10.59</td>\n      <td>10.60</td>\n      <td>10.50</td>\n      <td>10.47</td>\n      <td>10.61</td>\n      <td>10.46</td>\n      <td>33542803.0</td>\n      <td>3.538973e+08</td>\n    </tr>\n    <tr>\n      <th>1</th>\n      <td>1</td>\n      <td>sh600004</td>\n      <td>白云机场</td>\n      <td>13.12</td>\n      <td>-0.09</td>\n      <td>-0.681</td>\n      <td>13.12</td>\n      <td>13.13</td>\n      <td>13.21</td>\n      <td>13.18</td>\n      <td>13.18</td>\n      <td>12.97</td>\n      <td>7994234.0</td>\n      <td>1.045192e+08</td>\n    </tr>\n    <tr>\n      <th>2</th>\n      <td>2</td>\n      <td>sh600006</td>\n      <td>东风汽车</td>\n      <td>6.91</td>\n      <td>-0.17</td>\n      <td>-2.401</td>\n      <td>6.91</td>\n      <td>6.92</td>\n      <td>7.08</td>\n      <td>6.80</td>\n      <td>7.24</td>\n      <td>6.77</td>\n      <td>96632022.0</td>\n      <td>6.692854e+08</td>\n    </tr>\n    <tr>\n      <th>3</th>\n      <td>3</td>\n      <td>sh600007</td>\n      <td>中国国贸</td>\n      <td>12.36</td>\n      <td>0.02</td>\n      <td>0.162</td>\n      <td>12.35</td>\n      <td>12.36</td>\n      <td>12.34</td>\n      <td>12.34</td>\n      <td>12.49</td>\n      <td>12.26</td>\n      <td>379820.0</td>\n      <td>4.692412e+06</td>\n    </tr>\n    <tr>\n      <th>4</th>\n      <td>4</td>\n      <td>sh600008</td>\n      <td>首创股份</td>\n      <td>3.02</td>\n      <td>-0.03</td>\n      <td>-0.984</td>\n      <td>3.02</td>\n      <td>3.03</td>\n      <td>3.05</td>\n      <td>3.04</td>\n      <td>3.05</td>\n      <td>3.01</td>\n      <td>23876339.0</td>\n      <td>7.221535e+07</td>\n    </tr>\n    <tr>\n      <th>...</th>\n      <td>...</td>\n      <td>...</td>\n      <td>...</td>\n      <td>...</td>\n      <td>...</td>\n      <td>...</td>\n      <td>...</td>\n      <td>...</td>\n      <td>...</td>\n      <td>...</td>\n      <td>...</td>\n      <td>...</td>\n      <td>...</td>\n      <td>...</td>\n    </tr>\n    <tr>\n      <th>4266</th>\n      <td>4266</td>\n      <td>sz300976</td>\n      <td>C达瑞</td>\n      <td>203.66</td>\n      <td>2.00</td>\n      <td>0.992</td>\n      <td>203.52</td>\n      <td>203.66</td>\n      <td>201.66</td>\n      <td>197.00</td>\n      <td>205.44</td>\n      <td>192.29</td>\n      <td>2165138.0</td>\n      <td>4.322117e+08</td>\n    </tr>\n    <tr>\n      <th>4267</th>\n      <td>4267</td>\n      <td>sz300977</td>\n      <td>C瑞捷</td>\n      <td>92.59</td>\n      <td>-9.41</td>\n      <td>-9.225</td>\n      <td>92.51</td>\n      <td>92.59</td>\n      <td>102.00</td>\n      <td>95.00</td>\n      <td>99.60</td>\n      <td>92.24</td>\n      <td>2415113.0</td>\n      <td>2.293074e+08</td>\n    </tr>\n    <tr>\n      <th>4268</th>\n      <td>4268</td>\n      <td>sz300980</td>\n      <td>N祥源</td>\n      <td>54.45</td>\n      <td>21.68</td>\n      <td>66.158</td>\n      <td>54.42</td>\n      <td>54.45</td>\n      <td>32.77</td>\n      <td>56.00</td>\n      <td>66.00</td>\n      <td>54.00</td>\n      <td>7156536.0</td>\n      <td>4.236947e+08</td>\n    </tr>\n    <tr>\n      <th>4269</th>\n      <td>4269</td>\n      <td>sz300983</td>\n      <td>C尤安</td>\n      <td>120.61</td>\n      <td>-9.45</td>\n      <td>-7.266</td>\n      <td>120.61</td>\n      <td>120.63</td>\n      <td>130.06</td>\n      <td>123.00</td>\n      <td>126.00</td>\n      <td>120.31</td>\n      <td>3605567.0</td>\n      <td>4.390291e+08</td>\n    </tr>\n    <tr>\n      <th>4270</th>\n      <td>4270</td>\n      <td>sz300999</td>\n      <td>金龙鱼</td>\n      <td>75.45</td>\n      <td>1.03</td>\n      <td>1.384</td>\n      <td>75.42</td>\n      <td>75.45</td>\n      <td>74.42</td>\n      <td>73.72</td>\n      <td>76.49</td>\n      <td>73.41</td>\n      <td>16156448.0</td>\n      <td>1.213218e+09</td>\n    </tr>\n  </tbody>\n</table>\n<p>4271 rows × 14 columns</p>\n</div>"
     },
     "metadata": {},
     "execution_count": 4
    }
   ],
   "source": [
    "stock_zh_a_spot_df=pd.read_csv('stock_zh_a_spot_df.csv')\n",
    "stock_zh_a_spot_df"
   ]
  },
  {
   "cell_type": "code",
   "execution_count": 6,
   "metadata": {},
   "outputs": [
    {
     "output_type": "stream",
     "name": "stdout",
     "text": [
      "1\n",
      "2\n",
      "3\n",
      "4\n",
      "5\n",
      "6\n",
      "7\n",
      "8\n",
      "9\n",
      "10\n",
      "11\n",
      "12\n",
      "13\n",
      "14\n",
      "15\n"
     ]
    },
    {
     "output_type": "execute_result",
     "data": {
      "text/plain": [
       "[-0.47911347140292554,\n",
       " -0.5188049560306213,\n",
       " -0.5917367950027362,\n",
       " -0.5424675308218047,\n",
       " -0.6121060754768808,\n",
       " -0.6203006633891904,\n",
       " -0.678414687629697,\n",
       " -0.5871477297595621,\n",
       " -0.8384003878125668,\n",
       " -0.6515546136408781,\n",
       " -0.5656034024294996,\n",
       " -0.6385007909944515,\n",
       " -0.6814082719386274,\n",
       " -0.4383389766050454,\n",
       " -0.5481448460006216]"
      ]
     },
     "metadata": {},
     "execution_count": 6
    }
   ],
   "source": [
    "#stock_list=list(stock_zh_a_spot_df['代码'][0:50])\n",
    "stock_list=[\"sz002594\",\"sh603517\",\"sh600031\",\n",
    "            \"sz000858\",\"sh603816\",\"sh600690\",\n",
    "            \"sh600519\",\"sz002493\",\"sh601318\",\n",
    "            \"sz000895\",\"sz002415\",\"sh601021\",\n",
    "            \"sz000333\",\"sz300413\",\"sz002332\"]\n",
    "day=70\n",
    "sharp=[]\n",
    "for s in stock_list:\n",
    "    data = ak.stock_zh_a_daily(symbol=s, adjust=\"qfq\")\n",
    "    k=stock(data,s,day)\n",
    "    sharp.append(k.sharp_rate)\n",
    "    sleep(0.1)\n",
    "sharp"
   ]
  }
 ],
 "metadata": {
  "kernelspec": {
   "name": "python389jvsc74a57bd02ef1dd72f2d322dedd276e8847cd815facfd22863a40d66ee505ec0535873890",
   "display_name": "Python 3.8.9 64-bit"
  },
  "language_info": {
   "codemirror_mode": {
    "name": "ipython",
    "version": 3
   },
   "file_extension": ".py",
   "mimetype": "text/x-python",
   "name": "python",
   "nbconvert_exporter": "python",
   "pygments_lexer": "ipython3",
   "version": "3.8.9"
  },
  "metadata": {
   "interpreter": {
    "hash": "2ef1dd72f2d322dedd276e8847cd815facfd22863a40d66ee505ec0535873890"
   }
  }
 },
 "nbformat": 4,
 "nbformat_minor": 4
}